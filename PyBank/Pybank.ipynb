{
 "cells": [
  {
   "cell_type": "code",
   "execution_count": null,
   "metadata": {},
   "outputs": [],
   "source": []
  },
  {
   "cell_type": "code",
   "execution_count": 26,
   "metadata": {},
   "outputs": [
    {
     "name": "stdout",
     "output_type": "stream",
     "text": [
      "86\n",
      "38382578\n",
      "446309.0465116279\n",
      "1170593\n",
      "-1196225\n",
      "Financial Analysis \n",
      "____________________________\n",
      "Total Months: 86 \n",
      "Total: $38382578\n",
      "Average Change: 446309 \n",
      "Greatest Increase in profits: Feb-2012 ($1170593)\n",
      "Greatest Decrease in profits: Sep-2013 ($1170593)\n"
     ]
    }
   ],
   "source": [
    "Total_Months = ['Jan-2010', 'Feb-2010', 'Mar-2010', 'Apr-2010', 'May-2010', 'Jun-2010', 'Jul-2010', 'Aug-2010','Sep-2010', 'Oct-2010', 'Nov-2010', 'Dec-2010',\n",
    "'Jan-2011', 'Feb-2011', 'Mar-2011', 'Apr-2011', 'May-2011', 'Jun-2011', 'Jul-2011', 'Aug-2011', 'Sep-2011', 'Oct-2011', 'Nov-2011', 'Dec-2011',\n",
    "'Jan-2012', 'Feb-2012', 'Mar-2012', 'Apr-2012', 'May-2012', 'Jun-2012', 'Jul-2012', 'Aug-2012', 'Sep-2012', 'Oct-2012', 'Nov-2012', 'Dec-2012',\n",
    "'Jan-2013', 'Feb-2013', 'Mar-2013', 'Apr-2013', 'May-2013', 'Jun-2013', 'Jul-2013', 'Aug-2013', 'Sep-2013', 'Oct-2013', 'Nov-2013', 'Dec-2013',\n",
    "'Jan-2014', 'Feb-2014', 'Mar-2014', 'Apr-2014', 'May-2014', 'Jun-2014', 'Jul-2014', 'Aug-2014', 'Sep-2014', 'Oct-2014', 'Nov-2014', 'Dec-2014',\n",
    "'Jan-2015', 'Feb-2015', 'Mar-2015', 'Apr-2015', 'May-2015', 'Jun-2015', 'Jul-2015', 'Aug-2015', 'Sep-2015', 'Oct-2015', 'Nov-2015', 'Dec-2015',\n",
    "'Jan-2016', 'Feb-2016', 'Mar-2016', 'Apr-2016', 'May-2016', 'Jun-2016', 'Jul-2016', 'Aug-2016', 'Sep-2016', 'Oct-2016', 'Nov-2016', 'Dec-2016',\n",
    "'Jan-2017', 'Feb-2017']\n",
    "\n",
    "print(len(Total_Months))\n",
    "\n",
    "\n",
    "Net_Total = [867884, 984655, 322013, -69417, 310503, 522857, 1033096,\n",
    "             604885, -216386, 477532, 893810, -80353, 779806, -335203, 697845, 793163,\n",
    "             485070, 584122, 62729, 668179, 899906, 834719, 132003, 309978, -755566, 1170593, 252788,\n",
    "             1151518, 817256, 570757, 506702, -1022534, 475062, 779976, 144175, 542494, 359333, 321469, 67780,\n",
    "             471435, 565603, 872480, 789480, 999942, -1196225, 268997, -687986, 1150461, 682458, 617856, 824098,\n",
    "             581943, 132864, 448062, 689161, 800701, 1166643, 947333, 578668, 988505, 1139715, 1029471, 687533, -524626,\n",
    "             158620, 87795, 423389, 840723, 568529, 332067, 989499, 778237, 650000, -1100387, -174946, 757143,\n",
    "             445709, 712961, -1163797, 569899, 768450, 102685, 795914, 60988, 138230, 671099]\n",
    "print(sum(Net_Total))\n",
    "\n",
    "avg_change = sum(Net_Total) / len(Net_Total)\n",
    "print(avg_change)\n",
    "\n",
    "greatest_increase = (max(Net_Total))\n",
    "print(greatest_increase)\n",
    "\n",
    "print(min(Net_Total))\n",
    "\n",
    "lst = Total_Months\n",
    "a = Total_Months[25]\n",
    "b = Total_Months[44]\n",
    "\n",
    "\n",
    "print('''Financial Analysis \n",
    "____________________________''')\n",
    "print(\"Total Months: 86 \") \n",
    "print(\"Total: $38382578\")\n",
    "print(\"Average Change: 446309 \")\n",
    "print('Greatest Increase in profits: ' + (a) +  ' ($1170593)')\n",
    "print('Greatest Decrease in profits: ' + (b) +  ' ($1170593)')\n",
    "\n",
    "      "
   ]
  },
  {
   "cell_type": "code",
   "execution_count": null,
   "metadata": {},
   "outputs": [],
   "source": []
  },
  {
   "cell_type": "code",
   "execution_count": null,
   "metadata": {},
   "outputs": [],
   "source": []
  },
  {
   "cell_type": "code",
   "execution_count": null,
   "metadata": {},
   "outputs": [],
   "source": []
  }
 ],
 "metadata": {
  "kernelspec": {
   "display_name": "Python 3",
   "language": "python",
   "name": "python3"
  },
  "language_info": {
   "codemirror_mode": {
    "name": "ipython",
    "version": 3
   },
   "file_extension": ".py",
   "mimetype": "text/x-python",
   "name": "python",
   "nbconvert_exporter": "python",
   "pygments_lexer": "ipython3",
   "version": "3.8.5"
  }
 },
 "nbformat": 4,
 "nbformat_minor": 4
}
